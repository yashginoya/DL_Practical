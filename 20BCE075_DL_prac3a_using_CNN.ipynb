{
  "cells": [
    {
      "cell_type": "code",
      "execution_count": 2,
      "metadata": {
        "id": "u2QTjwd4QCLj"
      },
      "outputs": [],
      "source": [
        "import numpy as np\n",
        "import tensorflow\n",
        "from tensorflow import keras\n",
        "from tensorflow.keras import Sequential\n",
        "from tensorflow.keras.layers import Dense,Flatten,Conv2D,MaxPool2D,Dropout"
      ]
    },
    {
      "cell_type": "code",
      "execution_count": 3,
      "metadata": {
        "id": "Tn3n3UtjTSGP"
      },
      "outputs": [
        {
          "name": "stdout",
          "output_type": "stream",
          "text": [
            "Downloading data from https://storage.googleapis.com/tensorflow/tf-keras-datasets/mnist.npz\n",
            "11490434/11490434 [==============================] - 9s 1us/step\n"
          ]
        }
      ],
      "source": [
        "(X_train,y_train),(X_test,y_test)=keras.datasets.mnist.load_data()"
      ]
    },
    {
      "cell_type": "code",
      "execution_count": 4,
      "metadata": {
        "id": "pK3BJXC5TUsb"
      },
      "outputs": [],
      "source": [
        "import matplotlib.pyplot as plt\n"
      ]
    },
    {
      "cell_type": "code",
      "execution_count": 5,
      "metadata": {
        "id": "40EmE9j7T0-h"
      },
      "outputs": [],
      "source": [
        "def plot_input_img(i):\n",
        "  plt.imshow(X_train[i],cmap='binary')\n",
        "  plt.title(y_train[i])\n",
        "  plt.show"
      ]
    },
    {
      "cell_type": "code",
      "execution_count": 6,
      "metadata": {
        "colab": {
          "base_uri": "https://localhost:8080/",
          "height": 281
        },
        "id": "YXR87AH6UbMe",
        "outputId": "3a4ea2ac-c605-4916-b3de-8e5bb45d8585"
      },
      "outputs": [
        {
          "data": {
            "image/png": "[encoded data removed]",
            "text/plain": [
              "<Figure size 640x480 with 1 Axes>"
            ]
          },
          "metadata": {},
          "output_type": "display_data"
        }
      ],
      "source": [
        "for i in range(10):\n",
        "  plot_input_img(i)"
      ]
    },
    {
      "cell_type": "code",
      "execution_count": 7,
      "metadata": {
        "id": "hYinSbI0VInN"
      },
      "outputs": [],
      "source": [
        "#Data preproceesing\n",
        "#Normalizing the image in range [0,1]\n",
        "X_train=X_train/255\n",
        "X_test=X_test/255"
      ]
    },
    {
      "cell_type": "code",
      "execution_count": 8,
      "metadata": {
        "id": "M26f5KK-WQ5s"
      },
      "outputs": [],
      "source": [
        "#Expand the dimesion of image to (28,28,1)\n",
        "X_train=np.expand_dims(X_train,-1)\n",
        "X_test=np.expand_dims(X_test,-1)"
      ]
    },
    {
      "cell_type": "code",
      "execution_count": 9,
      "metadata": {
        "id": "9z5Ibjt2cnA4"
      },
      "outputs": [],
      "source": [
        "#convert classes to one hot vectors\n",
        "y_train=keras.utils.to_categorical(y_train)\n",
        "y_test=keras.utils.to_categorical(y_test)"
      ]
    },
    {
      "cell_type": "code",
      "execution_count": 10,
      "metadata": {
        "colab": {
          "base_uri": "https://localhost:8080/"
        },
        "id": "vJWJbkI3Wud1",
        "outputId": "615d2412-0187-46bd-ab8c-ae05729dfa71"
      },
      "outputs": [
        {
          "data": {
            "text/plain": [
              "(60000, 28, 28, 1)"
            ]
          },
          "execution_count": 10,
          "metadata": {},
          "output_type": "execute_result"
        }
      ],
      "source": [
        "X_train.shape"
      ]
    },
    {
      "cell_type": "code",
      "execution_count": 11,
      "metadata": {
        "id": "_b5oY_BtXQCg"
      },
      "outputs": [],
      "source": [
        "from keras.api._v2.keras import activations\n",
        "model=Sequential()\n",
        "model.add(Conv2D(32,(3,3),input_shape=(28,28,1),activation='relu'))\n",
        "model.add(MaxPool2D((2,2)))\n",
        "\n",
        "model.add(Conv2D(64,(3,3),activation='relu'))\n",
        "model.add(MaxPool2D((2,2)))\n",
        "model.add(Flatten())\n",
        "model.add(Dropout(0.25))\n",
        "model.add(Dense(10,activation='softmax'))"
      ]
    },
    {
      "cell_type": "code",
      "execution_count": 12,
      "metadata": {
        "colab": {
          "base_uri": "https://localhost:8080/"
        },
        "id": "HN1GKtclbVhw",
        "outputId": "24afa524-e14f-4bf3-93cd-03a92b1759be"
      },
      "outputs": [
        {
          "name": "stdout",
          "output_type": "stream",
          "text": [
            "Model: \"sequential\"\n",
            "_________________________________________________________________\n",
            " Layer (type)                Output Shape              Param #   \n",
            "=================================================================\n",
            " conv2d (Conv2D)             (None, 26, 26, 32)        320       \n",
            "                                                                 \n",
            " max_pooling2d (MaxPooling2D  (None, 13, 13, 32)       0         \n",
            " )                                                               \n",
            "                                                                 \n",
            " conv2d_1 (Conv2D)           (None, 11, 11, 64)        18496     \n",
            "                                                                 \n",
            " max_pooling2d_1 (MaxPooling  (None, 5, 5, 64)         0         \n",
            " 2D)                                                             \n",
            "                                                                 \n",
            " flatten (Flatten)           (None, 1600)              0         \n",
            "                                                                 \n",
            " dropout (Dropout)           (None, 1600)              0         \n",
            "                                                                 \n",
            " dense (Dense)               (None, 10)                16010     \n",
            "                                                                 \n",
            "=================================================================\n",
            "Total params: 34,826\n",
            "Trainable params: 34,826\n",
            "Non-trainable params: 0\n",
            "_________________________________________________________________\n"
          ]
        }
      ],
      "source": [
        "model.summary()"
      ]
    },
    {
      "cell_type": "code",
      "execution_count": 13,
      "metadata": {
        "id": "4F7WnCLId2rk"
      },
      "outputs": [],
      "source": [
        "model.compile(optimizer='adam',loss='categorical_crossentropy',metrics=['accuracy'])"
      ]
    },
    {
      "cell_type": "code",
      "execution_count": 14,
      "metadata": {
        "colab": {
          "base_uri": "https://localhost:8080/"
        },
        "id": "hHT-1vBuePUO",
        "outputId": "13cee40e-b2ce-43ad-d3b7-1aa70b9898e0"
      },
      "outputs": [
        {
          "name": "stdout",
          "output_type": "stream",
          "text": [
            "Epoch 1/50\n",
            "1313/1313 [==============================] - 25s 19ms/step - loss: 0.2127 - accuracy: 0.9354 - val_loss: 0.0709 - val_accuracy: 0.9779\n",
            "Epoch 2/50\n",
            "1313/1313 [==============================] - 28s 21ms/step - loss: 0.0692 - accuracy: 0.9790 - val_loss: 0.0516 - val_accuracy: 0.9839\n",
            "Epoch 3/50\n",
            "1313/1313 [==============================] - 57s 43ms/step - loss: 0.0520 - accuracy: 0.9836 - val_loss: 0.0499 - val_accuracy: 0.9853\n",
            "Epoch 4/50\n",
            "1313/1313 [==============================] - 27s 20ms/step - loss: 0.0414 - accuracy: 0.9873 - val_loss: 0.0454 - val_accuracy: 0.9866\n",
            "Epoch 5/50\n",
            "1313/1313 [==============================] - 27s 20ms/step - loss: 0.0359 - accuracy: 0.9885 - val_loss: 0.0409 - val_accuracy: 0.9877\n",
            "Epoch 6/50\n",
            "1313/1313 [==============================] - 25s 19ms/step - loss: 0.0297 - accuracy: 0.9904 - val_loss: 0.0410 - val_accuracy: 0.9872\n",
            "Epoch 7/50\n",
            "1313/1313 [==============================] - 26s 20ms/step - loss: 0.0260 - accuracy: 0.9915 - val_loss: 0.0419 - val_accuracy: 0.9885\n",
            "Epoch 8/50\n",
            "1313/1313 [==============================] - 34s 26ms/step - loss: 0.0225 - accuracy: 0.9922 - val_loss: 0.0402 - val_accuracy: 0.9884\n",
            "Epoch 9/50\n",
            "1313/1313 [==============================] - 52s 40ms/step - loss: 0.0212 - accuracy: 0.9930 - val_loss: 0.0477 - val_accuracy: 0.9862\n",
            "Epoch 10/50\n",
            "1313/1313 [==============================] - 31s 23ms/step - loss: 0.0185 - accuracy: 0.9940 - val_loss: 0.0444 - val_accuracy: 0.9882\n",
            "Epoch 11/50\n",
            "1313/1313 [==============================] - 25s 19ms/step - loss: 0.0175 - accuracy: 0.9940 - val_loss: 0.0375 - val_accuracy: 0.9896\n",
            "Epoch 12/50\n",
            "1313/1313 [==============================] - 43s 33ms/step - loss: 0.0160 - accuracy: 0.9946 - val_loss: 0.0433 - val_accuracy: 0.9892\n",
            "Epoch 13/50\n",
            "1313/1313 [==============================] - 25s 19ms/step - loss: 0.0134 - accuracy: 0.9954 - val_loss: 0.0514 - val_accuracy: 0.9888\n",
            "Epoch 14/50\n",
            "1313/1313 [==============================] - 26s 20ms/step - loss: 0.0124 - accuracy: 0.9958 - val_loss: 0.0460 - val_accuracy: 0.9897\n",
            "Epoch 15/50\n",
            "1313/1313 [==============================] - 25s 19ms/step - loss: 0.0136 - accuracy: 0.9953 - val_loss: 0.0415 - val_accuracy: 0.9902\n",
            "Epoch 16/50\n",
            "1313/1313 [==============================] - 30s 23ms/step - loss: 0.0119 - accuracy: 0.9956 - val_loss: 0.0441 - val_accuracy: 0.9898\n",
            "Epoch 17/50\n",
            "1313/1313 [==============================] - 29s 22ms/step - loss: 0.0104 - accuracy: 0.9965 - val_loss: 0.0473 - val_accuracy: 0.9891\n",
            "Epoch 18/50\n",
            "1313/1313 [==============================] - 28s 21ms/step - loss: 0.0104 - accuracy: 0.9968 - val_loss: 0.0427 - val_accuracy: 0.9903\n",
            "Epoch 19/50\n",
            "1313/1313 [==============================] - 27s 20ms/step - loss: 0.0108 - accuracy: 0.9961 - val_loss: 0.0432 - val_accuracy: 0.9904\n",
            "Epoch 20/50\n",
            "1313/1313 [==============================] - 26s 20ms/step - loss: 0.0113 - accuracy: 0.9962 - val_loss: 0.0475 - val_accuracy: 0.9893\n",
            "Epoch 21/50\n",
            "1313/1313 [==============================] - 32s 24ms/step - loss: 0.0095 - accuracy: 0.9965 - val_loss: 0.0434 - val_accuracy: 0.9899\n",
            "Epoch 22/50\n",
            "1313/1313 [==============================] - 31s 24ms/step - loss: 0.0087 - accuracy: 0.9970 - val_loss: 0.0478 - val_accuracy: 0.9905\n",
            "Epoch 23/50\n",
            "1313/1313 [==============================] - 24s 18ms/step - loss: 0.0085 - accuracy: 0.9973 - val_loss: 0.0477 - val_accuracy: 0.9904\n",
            "Epoch 24/50\n",
            "1313/1313 [==============================] - 34s 26ms/step - loss: 0.0082 - accuracy: 0.9967 - val_loss: 0.0483 - val_accuracy: 0.9902\n",
            "Epoch 25/50\n",
            "1313/1313 [==============================] - 73s 56ms/step - loss: 0.0083 - accuracy: 0.9969 - val_loss: 0.0538 - val_accuracy: 0.9897\n",
            "Epoch 26/50\n",
            "1313/1313 [==============================] - 74s 57ms/step - loss: 0.0089 - accuracy: 0.9968 - val_loss: 0.0561 - val_accuracy: 0.9892\n",
            "Epoch 27/50\n",
            "1313/1313 [==============================] - 27s 20ms/step - loss: 0.0080 - accuracy: 0.9973 - val_loss: 0.0492 - val_accuracy: 0.9898\n",
            "Epoch 28/50\n",
            "1313/1313 [==============================] - 28s 21ms/step - loss: 0.0072 - accuracy: 0.9975 - val_loss: 0.0493 - val_accuracy: 0.9903\n",
            "Epoch 29/50\n",
            "1313/1313 [==============================] - 28s 21ms/step - loss: 0.0070 - accuracy: 0.9976 - val_loss: 0.0512 - val_accuracy: 0.9907\n",
            "Epoch 30/50\n",
            "1313/1313 [==============================] - 29s 22ms/step - loss: 0.0069 - accuracy: 0.9975 - val_loss: 0.0557 - val_accuracy: 0.9893\n",
            "Epoch 31/50\n",
            "1313/1313 [==============================] - 28s 21ms/step - loss: 0.0069 - accuracy: 0.9975 - val_loss: 0.0548 - val_accuracy: 0.9903\n",
            "Epoch 32/50\n",
            "1313/1313 [==============================] - 28s 22ms/step - loss: 0.0070 - accuracy: 0.9973 - val_loss: 0.0507 - val_accuracy: 0.9913\n",
            "Epoch 33/50\n",
            "1313/1313 [==============================] - 27s 21ms/step - loss: 0.0054 - accuracy: 0.9981 - val_loss: 0.0608 - val_accuracy: 0.9889\n",
            "Epoch 34/50\n",
            "1313/1313 [==============================] - 28s 22ms/step - loss: 0.0078 - accuracy: 0.9973 - val_loss: 0.0521 - val_accuracy: 0.9908\n",
            "Epoch 35/50\n",
            "1313/1313 [==============================] - 28s 21ms/step - loss: 0.0061 - accuracy: 0.9978 - val_loss: 0.0515 - val_accuracy: 0.9903\n",
            "Epoch 36/50\n",
            "1313/1313 [==============================] - 29s 22ms/step - loss: 0.0070 - accuracy: 0.9977 - val_loss: 0.0544 - val_accuracy: 0.9903\n",
            "Epoch 37/50\n",
            "1313/1313 [==============================] - 28s 21ms/step - loss: 0.0059 - accuracy: 0.9981 - val_loss: 0.0548 - val_accuracy: 0.9912\n",
            "Epoch 38/50\n",
            "1313/1313 [==============================] - 28s 21ms/step - loss: 0.0056 - accuracy: 0.9981 - val_loss: 0.0518 - val_accuracy: 0.9908\n",
            "Epoch 39/50\n",
            "1313/1313 [==============================] - 29s 22ms/step - loss: 0.0052 - accuracy: 0.9982 - val_loss: 0.0562 - val_accuracy: 0.9906\n",
            "Epoch 40/50\n",
            "1313/1313 [==============================] - 28s 21ms/step - loss: 0.0063 - accuracy: 0.9980 - val_loss: 0.0499 - val_accuracy: 0.9907\n",
            "Epoch 41/50\n",
            "1313/1313 [==============================] - 29s 22ms/step - loss: 0.0049 - accuracy: 0.9983 - val_loss: 0.0570 - val_accuracy: 0.9907\n",
            "Epoch 42/50\n",
            "1313/1313 [==============================] - 29s 22ms/step - loss: 0.0061 - accuracy: 0.9980 - val_loss: 0.0485 - val_accuracy: 0.9908\n",
            "Epoch 43/50\n",
            "1313/1313 [==============================] - 29s 22ms/step - loss: 0.0048 - accuracy: 0.9984 - val_loss: 0.0575 - val_accuracy: 0.9897\n",
            "Epoch 44/50\n",
            "1313/1313 [==============================] - 27s 20ms/step - loss: 0.0062 - accuracy: 0.9979 - val_loss: 0.0532 - val_accuracy: 0.9906\n",
            "Epoch 45/50\n",
            "1313/1313 [==============================] - 28s 21ms/step - loss: 0.0046 - accuracy: 0.9985 - val_loss: 0.0684 - val_accuracy: 0.9884\n",
            "Epoch 46/50\n",
            "1313/1313 [==============================] - 28s 21ms/step - loss: 0.0078 - accuracy: 0.9978 - val_loss: 0.0575 - val_accuracy: 0.9906\n",
            "Epoch 47/50\n",
            "1313/1313 [==============================] - 28s 22ms/step - loss: 0.0050 - accuracy: 0.9984 - val_loss: 0.0576 - val_accuracy: 0.9904\n",
            "Epoch 48/50\n",
            "1313/1313 [==============================] - 28s 21ms/step - loss: 0.0054 - accuracy: 0.9983 - val_loss: 0.0547 - val_accuracy: 0.9904\n",
            "Epoch 49/50\n",
            "1313/1313 [==============================] - 29s 22ms/step - loss: 0.0043 - accuracy: 0.9985 - val_loss: 0.0611 - val_accuracy: 0.9896\n",
            "Epoch 50/50\n",
            "1313/1313 [==============================] - 28s 21ms/step - loss: 0.0053 - accuracy: 0.9981 - val_loss: 0.0589 - val_accuracy: 0.9898\n"
          ]
        }
      ],
      "source": [
        "his=model.fit(X_train,y_train,epochs=50,validation_split=0.3)"
      ]
    },
    {
      "cell_type": "code",
      "execution_count": null,
      "metadata": {
        "colab": {
          "base_uri": "https://localhost:8080/"
        },
        "id": "npf8kSkbe52G",
        "outputId": "fb418d24-a2e0-4fee-a3e2-c9b0eeba40b0"
      },
      "outputs": [
        {
          "name": "stdout",
          "output_type": "stream",
          "text": [
            "313/313 [==============================] - 4s 12ms/step\n"
          ]
        }
      ],
      "source": [
        "y_prob=model.predict(X_test)"
      ]
    },
    {
      "cell_type": "code",
      "execution_count": null,
      "metadata": {
        "colab": {
          "base_uri": "https://localhost:8080/"
        },
        "id": "0wR69e5RGZ2K",
        "outputId": "15ece00d-cb93-4e51-d314-fd43921a8ad0"
      },
      "outputs": [
        {
          "data": {
            "text/plain": [
              "array([[5.5111458e-21, 1.0792517e-21, 5.2801236e-12, ..., 9.9999994e-01,\n",
              "        8.4653870e-16, 5.1810990e-12],\n",
              "       [6.6140231e-12, 1.2106891e-13, 9.9999994e-01, ..., 2.0476113e-24,\n",
              "        1.6142251e-15, 1.6622241e-21],\n",
              "       [6.0945053e-16, 9.9999982e-01, 1.0729624e-14, ..., 4.1184633e-10,\n",
              "        1.6657117e-10, 5.6950921e-15],\n",
              "       ...,\n",
              "       [1.6591714e-35, 6.3971054e-24, 5.3186869e-30, ..., 1.0284949e-20,\n",
              "        5.4848983e-17, 4.3517228e-18],\n",
              "       [4.0281550e-19, 4.9909514e-25, 3.8341970e-22, ..., 5.8783611e-23,\n",
              "        9.6629984e-09, 7.8072263e-15],\n",
              "       [1.1600375e-12, 2.7917795e-24, 9.3678407e-13, ..., 8.0410108e-26,\n",
              "        3.3860761e-10, 4.2143787e-17]], dtype=float32)"
            ]
          },
          "execution_count": 82,
          "metadata": {},
          "output_type": "execute_result"
        }
      ],
      "source": [
        "y_prob"
      ]
    },
    {
      "cell_type": "code",
      "execution_count": null,
      "metadata": {
        "id": "1K2wIHOhGefp"
      },
      "outputs": [],
      "source": [
        "y_pred=y_prob.argmax(axis=1)"
      ]
    },
    {
      "cell_type": "code",
      "execution_count": null,
      "metadata": {
        "id": "FjASc-x7Ggxt"
      },
      "outputs": [],
      "source": [
        "from sklearn.metrics import accuracy_score"
      ]
    },
    {
      "cell_type": "code",
      "execution_count": null,
      "metadata": {
        "colab": {
          "base_uri": "https://localhost:8080/"
        },
        "id": "KwqpdmG8GjaX",
        "outputId": "f4954946-31d0-4412-c286-f0b6b52d4655"
      },
      "outputs": [
        {
          "data": {
            "text/plain": [
              "0.9925"
            ]
          },
          "execution_count": 85,
          "metadata": {},
          "output_type": "execute_result"
        }
      ],
      "source": [
        "accuracy_score(y_test,y_pred)"
      ]
    },
    {
      "cell_type": "code",
      "execution_count": null,
      "metadata": {
        "colab": {
          "base_uri": "https://localhost:8080/",
          "height": 282
        },
        "id": "rxgqqL4RGlj-",
        "outputId": "031ff516-e337-4579-a605-94ef37ff45ce"
      },
      "outputs": [
        {
          "data": {
            "text/plain": [
              "[<matplotlib.lines.Line2D at 0x7f3b55558520>]"
            ]
          },
          "execution_count": 86,
          "metadata": {},
          "output_type": "execute_result"
        },
        {
          "data": {
            "image/png": "[encoded data removed]",
            "text/plain": [
              "<Figure size 432x288 with 1 Axes>"
            ]
          },
          "metadata": {
            "needs_background": "light"
          },
          "output_type": "display_data"
        }
      ],
      "source": [
        "plt.plot(his.history['loss'])\n",
        "plt.plot(his.history['val_loss'])"
      ]
    },
    {
      "cell_type": "code",
      "execution_count": null,
      "metadata": {
        "colab": {
          "base_uri": "https://localhost:8080/",
          "height": 282
        },
        "id": "884faw9XY-Iy",
        "outputId": "dd791665-f76a-49b3-ec76-bfeeba590f06"
      },
      "outputs": [
        {
          "data": {
            "text/plain": [
              "[<matplotlib.lines.Line2D at 0x7f3b55518f70>]"
            ]
          },
          "execution_count": 87,
          "metadata": {},
          "output_type": "execute_result"
        },
        {
          "data": {
            "image/png": "[encoded data removed]",
            "text/plain": [
              "<Figure size 432x288 with 1 Axes>"
            ]
          },
          "metadata": {
            "needs_background": "light"
          },
          "output_type": "display_data"
        }
      ],
      "source": [
        "plt.plot(his.history['accuracy'])\n",
        "plt.plot(his.history['val_accuracy'])"
      ]
    },
    {
      "cell_type": "code",
      "execution_count": null,
      "metadata": {
        "id": "6ehBExJKZLwx"
      },
      "outputs": [],
      "source": []
    }
  ],
  "metadata": {
    "colab": {
      "provenance": []
    },
    "kernelspec": {
      "display_name": "Python 3",
      "language": "python",
      "name": "python3"
    },
    "language_info": {
      "codemirror_mode": {
        "name": "ipython",
        "version": 3
      },
      "file_extension": ".py",
      "mimetype": "text/x-python",
      "name": "python",
      "nbconvert_exporter": "python",
      "pygments_lexer": "ipython3",
      "version": "3.9.10"
    },
    "vscode": {
      "interpreter": {
        "hash": "f6246b25e200e4c5124e3e61789ac81350562f0761bbcf92ad9e48654207659c"
      }
    }
  },
  "nbformat": 4,
  "nbformat_minor": 0
}
