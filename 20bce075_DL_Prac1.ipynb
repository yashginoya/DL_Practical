{
 "cells": [
  {
   "cell_type": "code",
   "execution_count": 1,
   "id": "7f2a4cfe",
   "metadata": {
    "_cell_guid": "b1076dfc-b9ad-4769-8c92-a6c4dae69d19",
    "_uuid": "8f2839f25d086af736a60e9eeb907d3b93b6e0e5",
    "execution": {
     "iopub.execute_input": "2023-01-28T09:52:08.239440Z",
     "iopub.status.busy": "2023-01-28T09:52:08.238449Z",
     "iopub.status.idle": "2023-01-28T09:52:08.254392Z",
     "shell.execute_reply": "2023-01-28T09:52:08.253170Z"
    },
    "papermill": {
     "duration": 0.03117,
     "end_time": "2023-01-28T09:52:08.257109",
     "exception": false,
     "start_time": "2023-01-28T09:52:08.225939",
     "status": "completed"
    },
    "tags": []
   },
   "outputs": [
    {
     "name": "stdout",
     "output_type": "stream",
     "text": [
      "/kaggle/input/titanic/train.csv\n",
      "/kaggle/input/titanic/test.csv\n",
      "/kaggle/input/titanic/gender_submission.csv\n"
     ]
    }
   ],
   "source": [
    "# This Python 3 environment comes with many helpful analytics libraries installed\n",
    "# It is defined by the kaggle/python Docker image: https://github.com/kaggle/docker-python\n",
    "# For example, here's several helpful packages to load\n",
    "\n",
    "import numpy as np # linear algebra\n",
    "import pandas as pd # data processing, CSV file I/O (e.g. pd.read_csv)\n",
    "\n",
    "# Input data files are available in the read-only \"../input/\" directory\n",
    "# For example, running this (by clicking run or pressing Shift+Enter) will list all files under the input directory\n",
    "\n",
    "import os\n",
    "for dirname, _, filenames in os.walk('/kaggle/input'):\n",
    "    for filename in filenames:\n",
    "        print(os.path.join(dirname, filename))\n",
    "\n",
    "# You can write up to 20GB to the current directory (/kaggle/working/) that gets preserved as output when you create a version using \"Save & Run All\" \n",
    "# You can also write temporary files to /kaggle/temp/, but they won't be saved outside of the current session"
   ]
  },
  {
   "cell_type": "code",
   "execution_count": 2,
   "id": "4bc64220",
   "metadata": {
    "execution": {
     "iopub.execute_input": "2023-01-28T09:52:08.278097Z",
     "iopub.status.busy": "2023-01-28T09:52:08.277717Z",
     "iopub.status.idle": "2023-01-28T09:52:08.309019Z",
     "shell.execute_reply": "2023-01-28T09:52:08.307490Z"
    },
    "papermill": {
     "duration": 0.045166,
     "end_time": "2023-01-28T09:52:08.311862",
     "exception": false,
     "start_time": "2023-01-28T09:52:08.266696",
     "status": "completed"
    },
    "tags": []
   },
   "outputs": [],
   "source": [
    "train=pd.read_csv(\"/kaggle/input/titanic/train.csv\")\n",
    "test=pd.read_csv(\"/kaggle/input/titanic/test.csv\")"
   ]
  },
  {
   "cell_type": "code",
   "execution_count": 3,
   "id": "c79e2f0d",
   "metadata": {
    "execution": {
     "iopub.execute_input": "2023-01-28T09:52:08.334272Z",
     "iopub.status.busy": "2023-01-28T09:52:08.333874Z",
     "iopub.status.idle": "2023-01-28T09:52:08.365144Z",
     "shell.execute_reply": "2023-01-28T09:52:08.363891Z"
    },
    "papermill": {
     "duration": 0.045968,
     "end_time": "2023-01-28T09:52:08.367439",
     "exception": false,
     "start_time": "2023-01-28T09:52:08.321471",
     "status": "completed"
    },
    "tags": []
   },
   "outputs": [
    {
     "data": {
      "text/html": [
       "<div>\n",
       "<style scoped>\n",
       "    .dataframe tbody tr th:only-of-type {\n",
       "        vertical-align: middle;\n",
       "    }\n",
       "\n",
       "    .dataframe tbody tr th {\n",
       "        vertical-align: top;\n",
       "    }\n",
       "\n",
       "    .dataframe thead th {\n",
       "        text-align: right;\n",
       "    }\n",
       "</style>\n",
       "<table border=\"1\" class=\"dataframe\">\n",
       "  <thead>\n",
       "    <tr style=\"text-align: right;\">\n",
       "      <th></th>\n",
       "      <th>PassengerId</th>\n",
       "      <th>Survived</th>\n",
       "      <th>Pclass</th>\n",
       "      <th>Name</th>\n",
       "      <th>Sex</th>\n",
       "      <th>Age</th>\n",
       "      <th>SibSp</th>\n",
       "      <th>Parch</th>\n",
       "      <th>Ticket</th>\n",
       "      <th>Fare</th>\n",
       "      <th>Cabin</th>\n",
       "      <th>Embarked</th>\n",
       "    </tr>\n",
       "  </thead>\n",
       "  <tbody>\n",
       "    <tr>\n",
       "      <th>0</th>\n",
       "      <td>1</td>\n",
       "      <td>0</td>\n",
       "      <td>3</td>\n",
       "      <td>Braund, Mr. Owen Harris</td>\n",
       "      <td>male</td>\n",
       "      <td>22.0</td>\n",
       "      <td>1</td>\n",
       "      <td>0</td>\n",
       "      <td>A/5 21171</td>\n",
       "      <td>7.2500</td>\n",
       "      <td>NaN</td>\n",
       "      <td>S</td>\n",
       "    </tr>\n",
       "    <tr>\n",
       "      <th>1</th>\n",
       "      <td>2</td>\n",
       "      <td>1</td>\n",
       "      <td>1</td>\n",
       "      <td>Cumings, Mrs. John Bradley (Florence Briggs Th...</td>\n",
       "      <td>female</td>\n",
       "      <td>38.0</td>\n",
       "      <td>1</td>\n",
       "      <td>0</td>\n",
       "      <td>PC 17599</td>\n",
       "      <td>71.2833</td>\n",
       "      <td>C85</td>\n",
       "      <td>C</td>\n",
       "    </tr>\n",
       "    <tr>\n",
       "      <th>2</th>\n",
       "      <td>3</td>\n",
       "      <td>1</td>\n",
       "      <td>3</td>\n",
       "      <td>Heikkinen, Miss. Laina</td>\n",
       "      <td>female</td>\n",
       "      <td>26.0</td>\n",
       "      <td>0</td>\n",
       "      <td>0</td>\n",
       "      <td>STON/O2. 3101282</td>\n",
       "      <td>7.9250</td>\n",
       "      <td>NaN</td>\n",
       "      <td>S</td>\n",
       "    </tr>\n",
       "    <tr>\n",
       "      <th>3</th>\n",
       "      <td>4</td>\n",
       "      <td>1</td>\n",
       "      <td>1</td>\n",
       "      <td>Futrelle, Mrs. Jacques Heath (Lily May Peel)</td>\n",
       "      <td>female</td>\n",
       "      <td>35.0</td>\n",
       "      <td>1</td>\n",
       "      <td>0</td>\n",
       "      <td>113803</td>\n",
       "      <td>53.1000</td>\n",
       "      <td>C123</td>\n",
       "      <td>S</td>\n",
       "    </tr>\n",
       "    <tr>\n",
       "      <th>4</th>\n",
       "      <td>5</td>\n",
       "      <td>0</td>\n",
       "      <td>3</td>\n",
       "      <td>Allen, Mr. William Henry</td>\n",
       "      <td>male</td>\n",
       "      <td>35.0</td>\n",
       "      <td>0</td>\n",
       "      <td>0</td>\n",
       "      <td>373450</td>\n",
       "      <td>8.0500</td>\n",
       "      <td>NaN</td>\n",
       "      <td>S</td>\n",
       "    </tr>\n",
       "  </tbody>\n",
       "</table>\n",
       "</div>"
      ],
      "text/plain": [
       "   PassengerId  Survived  Pclass  \\\n",
       "0            1         0       3   \n",
       "1            2         1       1   \n",
       "2            3         1       3   \n",
       "3            4         1       1   \n",
       "4            5         0       3   \n",
       "\n",
       "                                                Name     Sex   Age  SibSp  \\\n",
       "0                            Braund, Mr. Owen Harris    male  22.0      1   \n",
       "1  Cumings, Mrs. John Bradley (Florence Briggs Th...  female  38.0      1   \n",
       "2                             Heikkinen, Miss. Laina  female  26.0      0   \n",
       "3       Futrelle, Mrs. Jacques Heath (Lily May Peel)  female  35.0      1   \n",
       "4                           Allen, Mr. William Henry    male  35.0      0   \n",
       "\n",
       "   Parch            Ticket     Fare Cabin Embarked  \n",
       "0      0         A/5 21171   7.2500   NaN        S  \n",
       "1      0          PC 17599  71.2833   C85        C  \n",
       "2      0  STON/O2. 3101282   7.9250   NaN        S  \n",
       "3      0            113803  53.1000  C123        S  \n",
       "4      0            373450   8.0500   NaN        S  "
      ]
     },
     "execution_count": 3,
     "metadata": {},
     "output_type": "execute_result"
    }
   ],
   "source": [
    "train.head()"
   ]
  },
  {
   "cell_type": "code",
   "execution_count": 4,
   "id": "6cad5df2",
   "metadata": {
    "execution": {
     "iopub.execute_input": "2023-01-28T09:52:08.388872Z",
     "iopub.status.busy": "2023-01-28T09:52:08.388424Z",
     "iopub.status.idle": "2023-01-28T09:52:08.394290Z",
     "shell.execute_reply": "2023-01-28T09:52:08.392924Z"
    },
    "papermill": {
     "duration": 0.018828,
     "end_time": "2023-01-28T09:52:08.396514",
     "exception": false,
     "start_time": "2023-01-28T09:52:08.377686",
     "status": "completed"
    },
    "tags": []
   },
   "outputs": [
    {
     "name": "stdout",
     "output_type": "stream",
     "text": [
      "(891, 12)\n"
     ]
    }
   ],
   "source": [
    "print(train.shape)"
   ]
  },
  {
   "cell_type": "code",
   "execution_count": 5,
   "id": "53c2a3ff",
   "metadata": {
    "execution": {
     "iopub.execute_input": "2023-01-28T09:52:08.417443Z",
     "iopub.status.busy": "2023-01-28T09:52:08.417036Z",
     "iopub.status.idle": "2023-01-28T09:52:08.423177Z",
     "shell.execute_reply": "2023-01-28T09:52:08.421534Z"
    },
    "papermill": {
     "duration": 0.019524,
     "end_time": "2023-01-28T09:52:08.425534",
     "exception": false,
     "start_time": "2023-01-28T09:52:08.406010",
     "status": "completed"
    },
    "tags": []
   },
   "outputs": [
    {
     "name": "stdout",
     "output_type": "stream",
     "text": [
      "(418, 11)\n"
     ]
    }
   ],
   "source": [
    "print(test.shape)"
   ]
  },
  {
   "cell_type": "code",
   "execution_count": 6,
   "id": "4f69c2a4",
   "metadata": {
    "execution": {
     "iopub.execute_input": "2023-01-28T09:52:08.446910Z",
     "iopub.status.busy": "2023-01-28T09:52:08.446225Z",
     "iopub.status.idle": "2023-01-28T09:52:08.455906Z",
     "shell.execute_reply": "2023-01-28T09:52:08.455001Z"
    },
    "papermill": {
     "duration": 0.022658,
     "end_time": "2023-01-28T09:52:08.457892",
     "exception": false,
     "start_time": "2023-01-28T09:52:08.435234",
     "status": "completed"
    },
    "tags": []
   },
   "outputs": [
    {
     "data": {
      "text/plain": [
       "177"
      ]
     },
     "execution_count": 6,
     "metadata": {},
     "output_type": "execute_result"
    }
   ],
   "source": [
    "sum(train['Age'].isnull())"
   ]
  },
  {
   "cell_type": "code",
   "execution_count": 7,
   "id": "13227185",
   "metadata": {
    "execution": {
     "iopub.execute_input": "2023-01-28T09:52:08.479031Z",
     "iopub.status.busy": "2023-01-28T09:52:08.478255Z",
     "iopub.status.idle": "2023-01-28T09:52:08.487506Z",
     "shell.execute_reply": "2023-01-28T09:52:08.486033Z"
    },
    "papermill": {
     "duration": 0.0221,
     "end_time": "2023-01-28T09:52:08.489544",
     "exception": false,
     "start_time": "2023-01-28T09:52:08.467444",
     "status": "completed"
    },
    "tags": []
   },
   "outputs": [
    {
     "data": {
      "text/plain": [
       "0      False\n",
       "1      False\n",
       "2      False\n",
       "3      False\n",
       "4      False\n",
       "       ...  \n",
       "886    False\n",
       "887    False\n",
       "888     True\n",
       "889    False\n",
       "890    False\n",
       "Name: Age, Length: 891, dtype: bool"
      ]
     },
     "execution_count": 7,
     "metadata": {},
     "output_type": "execute_result"
    }
   ],
   "source": [
    "train['Age'].isnull()"
   ]
  },
  {
   "cell_type": "code",
   "execution_count": 8,
   "id": "f200b6b4",
   "metadata": {
    "execution": {
     "iopub.execute_input": "2023-01-28T09:52:08.511313Z",
     "iopub.status.busy": "2023-01-28T09:52:08.510550Z",
     "iopub.status.idle": "2023-01-28T09:52:08.533330Z",
     "shell.execute_reply": "2023-01-28T09:52:08.531552Z"
    },
    "papermill": {
     "duration": 0.036253,
     "end_time": "2023-01-28T09:52:08.535775",
     "exception": false,
     "start_time": "2023-01-28T09:52:08.499522",
     "status": "completed"
    },
    "tags": []
   },
   "outputs": [
    {
     "name": "stdout",
     "output_type": "stream",
     "text": [
      "<class 'pandas.core.frame.DataFrame'>\n",
      "RangeIndex: 891 entries, 0 to 890\n",
      "Data columns (total 12 columns):\n",
      " #   Column       Non-Null Count  Dtype  \n",
      "---  ------       --------------  -----  \n",
      " 0   PassengerId  891 non-null    int64  \n",
      " 1   Survived     891 non-null    int64  \n",
      " 2   Pclass       891 non-null    int64  \n",
      " 3   Name         891 non-null    object \n",
      " 4   Sex          891 non-null    object \n",
      " 5   Age          714 non-null    float64\n",
      " 6   SibSp        891 non-null    int64  \n",
      " 7   Parch        891 non-null    int64  \n",
      " 8   Ticket       891 non-null    object \n",
      " 9   Fare         891 non-null    float64\n",
      " 10  Cabin        204 non-null    object \n",
      " 11  Embarked     889 non-null    object \n",
      "dtypes: float64(2), int64(5), object(5)\n",
      "memory usage: 83.7+ KB\n"
     ]
    }
   ],
   "source": [
    "train.info()"
   ]
  },
  {
   "cell_type": "code",
   "execution_count": 9,
   "id": "f062b9d2",
   "metadata": {
    "execution": {
     "iopub.execute_input": "2023-01-28T09:52:08.557269Z",
     "iopub.status.busy": "2023-01-28T09:52:08.556881Z",
     "iopub.status.idle": "2023-01-28T09:52:08.562957Z",
     "shell.execute_reply": "2023-01-28T09:52:08.562155Z"
    },
    "papermill": {
     "duration": 0.019503,
     "end_time": "2023-01-28T09:52:08.565103",
     "exception": false,
     "start_time": "2023-01-28T09:52:08.545600",
     "status": "completed"
    },
    "tags": []
   },
   "outputs": [
    {
     "data": {
      "text/plain": [
       "(891, 12)"
      ]
     },
     "execution_count": 9,
     "metadata": {},
     "output_type": "execute_result"
    }
   ],
   "source": [
    "train.shape"
   ]
  },
  {
   "cell_type": "code",
   "execution_count": 10,
   "id": "f754300b",
   "metadata": {
    "execution": {
     "iopub.execute_input": "2023-01-28T09:52:08.587421Z",
     "iopub.status.busy": "2023-01-28T09:52:08.586237Z",
     "iopub.status.idle": "2023-01-28T09:52:08.597494Z",
     "shell.execute_reply": "2023-01-28T09:52:08.596568Z"
    },
    "papermill": {
     "duration": 0.024614,
     "end_time": "2023-01-28T09:52:08.599774",
     "exception": false,
     "start_time": "2023-01-28T09:52:08.575160",
     "status": "completed"
    },
    "tags": []
   },
   "outputs": [
    {
     "data": {
      "text/plain": [
       "PassengerId      0\n",
       "Survived         0\n",
       "Pclass           0\n",
       "Name             0\n",
       "Sex              0\n",
       "Age            177\n",
       "SibSp            0\n",
       "Parch            0\n",
       "Ticket           0\n",
       "Fare             0\n",
       "Cabin          687\n",
       "Embarked         2\n",
       "dtype: int64"
      ]
     },
     "execution_count": 10,
     "metadata": {},
     "output_type": "execute_result"
    }
   ],
   "source": [
    "train.isnull().sum()"
   ]
  },
  {
   "cell_type": "code",
   "execution_count": 11,
   "id": "6128c5a4",
   "metadata": {
    "execution": {
     "iopub.execute_input": "2023-01-28T09:52:08.621995Z",
     "iopub.status.busy": "2023-01-28T09:52:08.621608Z",
     "iopub.status.idle": "2023-01-28T09:52:08.628661Z",
     "shell.execute_reply": "2023-01-28T09:52:08.627513Z"
    },
    "papermill": {
     "duration": 0.020639,
     "end_time": "2023-01-28T09:52:08.630877",
     "exception": false,
     "start_time": "2023-01-28T09:52:08.610238",
     "status": "completed"
    },
    "tags": []
   },
   "outputs": [],
   "source": [
    "train['Age_mean']=train['Age']\n",
    "train['Age_mean'].fillna(train['Age'].mean(),inplace=True)"
   ]
  },
  {
   "cell_type": "code",
   "execution_count": 12,
   "id": "8c9a8faa",
   "metadata": {
    "execution": {
     "iopub.execute_input": "2023-01-28T09:52:08.653958Z",
     "iopub.status.busy": "2023-01-28T09:52:08.653192Z",
     "iopub.status.idle": "2023-01-28T09:52:08.659446Z",
     "shell.execute_reply": "2023-01-28T09:52:08.658705Z"
    },
    "papermill": {
     "duration": 0.02001,
     "end_time": "2023-01-28T09:52:08.661597",
     "exception": false,
     "start_time": "2023-01-28T09:52:08.641587",
     "status": "completed"
    },
    "tags": []
   },
   "outputs": [],
   "source": [
    "test['Age_mean']=test['Age']\n",
    "test['Age_mean'].fillna(test['Age'].mean(),inplace=True)"
   ]
  },
  {
   "cell_type": "code",
   "execution_count": 13,
   "id": "4f3aaee8",
   "metadata": {
    "execution": {
     "iopub.execute_input": "2023-01-28T09:52:08.684861Z",
     "iopub.status.busy": "2023-01-28T09:52:08.683686Z",
     "iopub.status.idle": "2023-01-28T09:52:08.691412Z",
     "shell.execute_reply": "2023-01-28T09:52:08.690431Z"
    },
    "papermill": {
     "duration": 0.021105,
     "end_time": "2023-01-28T09:52:08.693423",
     "exception": false,
     "start_time": "2023-01-28T09:52:08.672318",
     "status": "completed"
    },
    "tags": []
   },
   "outputs": [
    {
     "data": {
      "text/plain": [
       "male      577\n",
       "female    314\n",
       "Name: Sex, dtype: int64"
      ]
     },
     "execution_count": 13,
     "metadata": {},
     "output_type": "execute_result"
    }
   ],
   "source": [
    "train['Sex'].value_counts()"
   ]
  },
  {
   "cell_type": "code",
   "execution_count": 14,
   "id": "4e060ad2",
   "metadata": {
    "execution": {
     "iopub.execute_input": "2023-01-28T09:52:08.715622Z",
     "iopub.status.busy": "2023-01-28T09:52:08.715217Z",
     "iopub.status.idle": "2023-01-28T09:52:08.722786Z",
     "shell.execute_reply": "2023-01-28T09:52:08.721822Z"
    },
    "papermill": {
     "duration": 0.021302,
     "end_time": "2023-01-28T09:52:08.724884",
     "exception": false,
     "start_time": "2023-01-28T09:52:08.703582",
     "status": "completed"
    },
    "tags": []
   },
   "outputs": [],
   "source": [
    "train['Gender']=(train['Sex']=='female')\n",
    "test['Gender']=(test['Sex']=='female')"
   ]
  },
  {
   "cell_type": "code",
   "execution_count": 15,
   "id": "05656473",
   "metadata": {
    "execution": {
     "iopub.execute_input": "2023-01-28T09:52:08.748627Z",
     "iopub.status.busy": "2023-01-28T09:52:08.748224Z",
     "iopub.status.idle": "2023-01-28T09:52:08.756751Z",
     "shell.execute_reply": "2023-01-28T09:52:08.755456Z"
    },
    "papermill": {
     "duration": 0.02369,
     "end_time": "2023-01-28T09:52:08.758891",
     "exception": false,
     "start_time": "2023-01-28T09:52:08.735201",
     "status": "completed"
    },
    "tags": []
   },
   "outputs": [
    {
     "data": {
      "text/plain": [
       "0    False\n",
       "1     True\n",
       "2     True\n",
       "3     True\n",
       "4    False\n",
       "Name: Gender, dtype: bool"
      ]
     },
     "execution_count": 15,
     "metadata": {},
     "output_type": "execute_result"
    }
   ],
   "source": [
    "train['Gender'].head()"
   ]
  },
  {
   "cell_type": "code",
   "execution_count": 16,
   "id": "346eb81e",
   "metadata": {
    "execution": {
     "iopub.execute_input": "2023-01-28T09:52:08.782233Z",
     "iopub.status.busy": "2023-01-28T09:52:08.781174Z",
     "iopub.status.idle": "2023-01-28T09:52:08.789165Z",
     "shell.execute_reply": "2023-01-28T09:52:08.788126Z"
    },
    "papermill": {
     "duration": 0.021873,
     "end_time": "2023-01-28T09:52:08.791503",
     "exception": false,
     "start_time": "2023-01-28T09:52:08.769630",
     "status": "completed"
    },
    "tags": []
   },
   "outputs": [
    {
     "data": {
      "text/plain": [
       "S    644\n",
       "C    168\n",
       "Q     77\n",
       "Name: Embarked, dtype: int64"
      ]
     },
     "execution_count": 16,
     "metadata": {},
     "output_type": "execute_result"
    }
   ],
   "source": [
    "train['Embarked'].value_counts()"
   ]
  },
  {
   "cell_type": "code",
   "execution_count": 17,
   "id": "15b92b67",
   "metadata": {
    "execution": {
     "iopub.execute_input": "2023-01-28T09:52:08.815329Z",
     "iopub.status.busy": "2023-01-28T09:52:08.814964Z",
     "iopub.status.idle": "2023-01-28T09:52:08.821944Z",
     "shell.execute_reply": "2023-01-28T09:52:08.820973Z"
    },
    "papermill": {
     "duration": 0.021289,
     "end_time": "2023-01-28T09:52:08.824171",
     "exception": false,
     "start_time": "2023-01-28T09:52:08.802882",
     "status": "completed"
    },
    "tags": []
   },
   "outputs": [
    {
     "data": {
      "text/plain": [
       "2"
      ]
     },
     "execution_count": 17,
     "metadata": {},
     "output_type": "execute_result"
    }
   ],
   "source": [
    "train['Embarked'].isnull().sum()"
   ]
  },
  {
   "cell_type": "code",
   "execution_count": 18,
   "id": "ccae664a",
   "metadata": {
    "execution": {
     "iopub.execute_input": "2023-01-28T09:52:08.847202Z",
     "iopub.status.busy": "2023-01-28T09:52:08.846806Z",
     "iopub.status.idle": "2023-01-28T09:52:08.854505Z",
     "shell.execute_reply": "2023-01-28T09:52:08.853523Z"
    },
    "papermill": {
     "duration": 0.021728,
     "end_time": "2023-01-28T09:52:08.856712",
     "exception": false,
     "start_time": "2023-01-28T09:52:08.834984",
     "status": "completed"
    },
    "tags": []
   },
   "outputs": [],
   "source": [
    "train['Embarked_S'] = train['Embarked'] == 'S'\n",
    "train['Embarked_C'] = train['Embarked'] == 'C'\n",
    "train['Embarked_Q'] = train['Embarked'] == 'Q'"
   ]
  },
  {
   "cell_type": "code",
   "execution_count": 19,
   "id": "31783e02",
   "metadata": {
    "execution": {
     "iopub.execute_input": "2023-01-28T09:52:08.880125Z",
     "iopub.status.busy": "2023-01-28T09:52:08.879758Z",
     "iopub.status.idle": "2023-01-28T09:52:08.885960Z",
     "shell.execute_reply": "2023-01-28T09:52:08.884906Z"
    },
    "papermill": {
     "duration": 0.020693,
     "end_time": "2023-01-28T09:52:08.888105",
     "exception": false,
     "start_time": "2023-01-28T09:52:08.867412",
     "status": "completed"
    },
    "tags": []
   },
   "outputs": [],
   "source": [
    "train['FamilySize'] = train['SibSp'] + train['Parch'] + 1"
   ]
  },
  {
   "cell_type": "code",
   "execution_count": 20,
   "id": "729e05d9",
   "metadata": {
    "execution": {
     "iopub.execute_input": "2023-01-28T09:52:08.911255Z",
     "iopub.status.busy": "2023-01-28T09:52:08.910372Z",
     "iopub.status.idle": "2023-01-28T09:52:08.918278Z",
     "shell.execute_reply": "2023-01-28T09:52:08.917464Z"
    },
    "papermill": {
     "duration": 0.021677,
     "end_time": "2023-01-28T09:52:08.920291",
     "exception": false,
     "start_time": "2023-01-28T09:52:08.898614",
     "status": "completed"
    },
    "tags": []
   },
   "outputs": [
    {
     "data": {
      "text/plain": [
       "1     537\n",
       "2     161\n",
       "3     102\n",
       "4      29\n",
       "6      22\n",
       "5      15\n",
       "7      12\n",
       "11      7\n",
       "8       6\n",
       "Name: FamilySize, dtype: int64"
      ]
     },
     "execution_count": 20,
     "metadata": {},
     "output_type": "execute_result"
    }
   ],
   "source": [
    "train['FamilySize'].value_counts()"
   ]
  },
  {
   "cell_type": "code",
   "execution_count": 21,
   "id": "227e2b2a",
   "metadata": {
    "execution": {
     "iopub.execute_input": "2023-01-28T09:52:08.943785Z",
     "iopub.status.busy": "2023-01-28T09:52:08.943318Z",
     "iopub.status.idle": "2023-01-28T09:52:08.949436Z",
     "shell.execute_reply": "2023-01-28T09:52:08.948102Z"
    },
    "papermill": {
     "duration": 0.02079,
     "end_time": "2023-01-28T09:52:08.951910",
     "exception": false,
     "start_time": "2023-01-28T09:52:08.931120",
     "status": "completed"
    },
    "tags": []
   },
   "outputs": [],
   "source": [
    "train['Family'] = train['FamilySize']"
   ]
  },
  {
   "cell_type": "code",
   "execution_count": 22,
   "id": "d0500c89",
   "metadata": {
    "execution": {
     "iopub.execute_input": "2023-01-28T09:52:08.974977Z",
     "iopub.status.busy": "2023-01-28T09:52:08.974587Z",
     "iopub.status.idle": "2023-01-28T09:52:08.981158Z",
     "shell.execute_reply": "2023-01-28T09:52:08.980055Z"
    },
    "papermill": {
     "duration": 0.020662,
     "end_time": "2023-01-28T09:52:08.983220",
     "exception": false,
     "start_time": "2023-01-28T09:52:08.962558",
     "status": "completed"
    },
    "tags": []
   },
   "outputs": [],
   "source": [
    "train.loc[train['FamilySize']==1,'Family']='S'"
   ]
  },
  {
   "cell_type": "code",
   "execution_count": 23,
   "id": "40a2cf90",
   "metadata": {
    "execution": {
     "iopub.execute_input": "2023-01-28T09:52:09.006848Z",
     "iopub.status.busy": "2023-01-28T09:52:09.006041Z",
     "iopub.status.idle": "2023-01-28T09:52:09.013627Z",
     "shell.execute_reply": "2023-01-28T09:52:09.012592Z"
    },
    "papermill": {
     "duration": 0.022131,
     "end_time": "2023-01-28T09:52:09.015935",
     "exception": false,
     "start_time": "2023-01-28T09:52:08.993804",
     "status": "completed"
    },
    "tags": []
   },
   "outputs": [],
   "source": [
    "train.loc[(train['FamilySize'] > 1) & (train['FamilySize'] < 5), 'Family'] = 'M'\n",
    "train.loc[train['FamilySize'] > 4, 'Family'] = 'L'"
   ]
  },
  {
   "cell_type": "code",
   "execution_count": 24,
   "id": "884542e0",
   "metadata": {
    "execution": {
     "iopub.execute_input": "2023-01-28T09:52:09.039024Z",
     "iopub.status.busy": "2023-01-28T09:52:09.038614Z",
     "iopub.status.idle": "2023-01-28T09:52:09.050279Z",
     "shell.execute_reply": "2023-01-28T09:52:09.049088Z"
    },
    "papermill": {
     "duration": 0.025958,
     "end_time": "2023-01-28T09:52:09.052558",
     "exception": false,
     "start_time": "2023-01-28T09:52:09.026600",
     "status": "completed"
    },
    "tags": []
   },
   "outputs": [
    {
     "data": {
      "text/html": [
       "<div>\n",
       "<style scoped>\n",
       "    .dataframe tbody tr th:only-of-type {\n",
       "        vertical-align: middle;\n",
       "    }\n",
       "\n",
       "    .dataframe tbody tr th {\n",
       "        vertical-align: top;\n",
       "    }\n",
       "\n",
       "    .dataframe thead th {\n",
       "        text-align: right;\n",
       "    }\n",
       "</style>\n",
       "<table border=\"1\" class=\"dataframe\">\n",
       "  <thead>\n",
       "    <tr style=\"text-align: right;\">\n",
       "      <th></th>\n",
       "      <th>Family</th>\n",
       "      <th>FamilySize</th>\n",
       "    </tr>\n",
       "  </thead>\n",
       "  <tbody>\n",
       "    <tr>\n",
       "      <th>0</th>\n",
       "      <td>M</td>\n",
       "      <td>2</td>\n",
       "    </tr>\n",
       "    <tr>\n",
       "      <th>1</th>\n",
       "      <td>M</td>\n",
       "      <td>2</td>\n",
       "    </tr>\n",
       "    <tr>\n",
       "      <th>2</th>\n",
       "      <td>S</td>\n",
       "      <td>1</td>\n",
       "    </tr>\n",
       "    <tr>\n",
       "      <th>3</th>\n",
       "      <td>M</td>\n",
       "      <td>2</td>\n",
       "    </tr>\n",
       "    <tr>\n",
       "      <th>4</th>\n",
       "      <td>S</td>\n",
       "      <td>1</td>\n",
       "    </tr>\n",
       "  </tbody>\n",
       "</table>\n",
       "</div>"
      ],
      "text/plain": [
       "  Family  FamilySize\n",
       "0      M           2\n",
       "1      M           2\n",
       "2      S           1\n",
       "3      M           2\n",
       "4      S           1"
      ]
     },
     "execution_count": 24,
     "metadata": {},
     "output_type": "execute_result"
    }
   ],
   "source": [
    "train[['Family', 'FamilySize']].head()\n"
   ]
  },
  {
   "cell_type": "code",
   "execution_count": 25,
   "id": "3b447a70",
   "metadata": {
    "execution": {
     "iopub.execute_input": "2023-01-28T09:52:09.077107Z",
     "iopub.status.busy": "2023-01-28T09:52:09.075868Z",
     "iopub.status.idle": "2023-01-28T09:52:09.084347Z",
     "shell.execute_reply": "2023-01-28T09:52:09.083198Z"
    },
    "papermill": {
     "duration": 0.023205,
     "end_time": "2023-01-28T09:52:09.086750",
     "exception": false,
     "start_time": "2023-01-28T09:52:09.063545",
     "status": "completed"
    },
    "tags": []
   },
   "outputs": [],
   "source": [
    "train['Family_S'] = train['Family'] == 'S'\n",
    "train['Family_M'] = train['Family'] == 'M'\n",
    "train['Family_L'] = train['Family'] == 'L'"
   ]
  },
  {
   "cell_type": "code",
   "execution_count": 26,
   "id": "c0781026",
   "metadata": {
    "execution": {
     "iopub.execute_input": "2023-01-28T09:52:09.110060Z",
     "iopub.status.busy": "2023-01-28T09:52:09.109617Z",
     "iopub.status.idle": "2023-01-28T09:52:09.118394Z",
     "shell.execute_reply": "2023-01-28T09:52:09.117305Z"
    },
    "papermill": {
     "duration": 0.022962,
     "end_time": "2023-01-28T09:52:09.120581",
     "exception": false,
     "start_time": "2023-01-28T09:52:09.097619",
     "status": "completed"
    },
    "tags": []
   },
   "outputs": [
    {
     "data": {
      "text/plain": [
       "CategoricalDtype(categories=[1, 2, 3], ordered=False)"
      ]
     },
     "execution_count": 26,
     "metadata": {},
     "output_type": "execute_result"
    }
   ],
   "source": [
    "train['Pclass'] = train['Pclass'].astype('category')\n",
    "train['Pclass'].dtypes"
   ]
  },
  {
   "cell_type": "code",
   "execution_count": 27,
   "id": "f85b4540",
   "metadata": {
    "execution": {
     "iopub.execute_input": "2023-01-28T09:52:09.143845Z",
     "iopub.status.busy": "2023-01-28T09:52:09.143449Z",
     "iopub.status.idle": "2023-01-28T09:52:09.150978Z",
     "shell.execute_reply": "2023-01-28T09:52:09.150052Z"
    },
    "papermill": {
     "duration": 0.021946,
     "end_time": "2023-01-28T09:52:09.153481",
     "exception": false,
     "start_time": "2023-01-28T09:52:09.131535",
     "status": "completed"
    },
    "tags": []
   },
   "outputs": [],
   "source": [
    "test['Embarked_S'] = test['Embarked'] == 'S'\n",
    "test['Embarked_C'] = test['Embarked'] == 'C'\n",
    "test['Embarked_Q'] = test['Embarked'] == 'Q'"
   ]
  },
  {
   "cell_type": "code",
   "execution_count": 28,
   "id": "415b6449",
   "metadata": {
    "execution": {
     "iopub.execute_input": "2023-01-28T09:52:09.177722Z",
     "iopub.status.busy": "2023-01-28T09:52:09.176931Z",
     "iopub.status.idle": "2023-01-28T09:52:09.187606Z",
     "shell.execute_reply": "2023-01-28T09:52:09.186861Z"
    },
    "papermill": {
     "duration": 0.025173,
     "end_time": "2023-01-28T09:52:09.189849",
     "exception": false,
     "start_time": "2023-01-28T09:52:09.164676",
     "status": "completed"
    },
    "tags": []
   },
   "outputs": [],
   "source": [
    "test['FamilySize'] = test['SibSp'] + test['Parch'] + 1\n",
    "test['Family'] = test['FamilySize']\n",
    "test.loc[test['FamilySize'] == 1, 'Family'] = 'S'\n",
    "test.loc[(test['FamilySize'] > 1) & (test['FamilySize'] < 5), 'Family'] = 'M'\n",
    "test.loc[test['FamilySize'] > 4, 'Family'] = 'L'"
   ]
  },
  {
   "cell_type": "code",
   "execution_count": 29,
   "id": "d4985680",
   "metadata": {
    "execution": {
     "iopub.execute_input": "2023-01-28T09:52:09.214012Z",
     "iopub.status.busy": "2023-01-28T09:52:09.213227Z",
     "iopub.status.idle": "2023-01-28T09:52:09.220631Z",
     "shell.execute_reply": "2023-01-28T09:52:09.219893Z"
    },
    "papermill": {
     "duration": 0.022075,
     "end_time": "2023-01-28T09:52:09.222845",
     "exception": false,
     "start_time": "2023-01-28T09:52:09.200770",
     "status": "completed"
    },
    "tags": []
   },
   "outputs": [],
   "source": [
    "test['Family_S'] = test['Family'] == 'S'\n",
    "test['Family_M'] = test['Family'] == 'M'\n",
    "test['Family_L'] = test['Family'] == 'L'"
   ]
  },
  {
   "cell_type": "code",
   "execution_count": 30,
   "id": "cf012211",
   "metadata": {
    "execution": {
     "iopub.execute_input": "2023-01-28T09:52:09.246711Z",
     "iopub.status.busy": "2023-01-28T09:52:09.246072Z",
     "iopub.status.idle": "2023-01-28T09:52:09.250821Z",
     "shell.execute_reply": "2023-01-28T09:52:09.250057Z"
    },
    "papermill": {
     "duration": 0.019,
     "end_time": "2023-01-28T09:52:09.252850",
     "exception": false,
     "start_time": "2023-01-28T09:52:09.233850",
     "status": "completed"
    },
    "tags": []
   },
   "outputs": [],
   "source": [
    "feature_names = ['Gender', 'Age_mean', \n",
    "                 'Embarked_S', 'Embarked_C', 'Embarked_Q', \n",
    "                 'Family_S', 'Family_M', 'Family_L']"
   ]
  },
  {
   "cell_type": "code",
   "execution_count": 31,
   "id": "7ad1ef7a",
   "metadata": {
    "execution": {
     "iopub.execute_input": "2023-01-28T09:52:09.276587Z",
     "iopub.status.busy": "2023-01-28T09:52:09.275969Z",
     "iopub.status.idle": "2023-01-28T09:52:09.292552Z",
     "shell.execute_reply": "2023-01-28T09:52:09.291831Z"
    },
    "papermill": {
     "duration": 0.031105,
     "end_time": "2023-01-28T09:52:09.294728",
     "exception": false,
     "start_time": "2023-01-28T09:52:09.263623",
     "status": "completed"
    },
    "tags": []
   },
   "outputs": [
    {
     "data": {
      "text/html": [
       "<div>\n",
       "<style scoped>\n",
       "    .dataframe tbody tr th:only-of-type {\n",
       "        vertical-align: middle;\n",
       "    }\n",
       "\n",
       "    .dataframe tbody tr th {\n",
       "        vertical-align: top;\n",
       "    }\n",
       "\n",
       "    .dataframe thead th {\n",
       "        text-align: right;\n",
       "    }\n",
       "</style>\n",
       "<table border=\"1\" class=\"dataframe\">\n",
       "  <thead>\n",
       "    <tr style=\"text-align: right;\">\n",
       "      <th></th>\n",
       "      <th>Gender</th>\n",
       "      <th>Age_mean</th>\n",
       "      <th>Embarked_S</th>\n",
       "      <th>Embarked_C</th>\n",
       "      <th>Embarked_Q</th>\n",
       "      <th>Family_S</th>\n",
       "      <th>Family_M</th>\n",
       "      <th>Family_L</th>\n",
       "    </tr>\n",
       "  </thead>\n",
       "  <tbody>\n",
       "    <tr>\n",
       "      <th>0</th>\n",
       "      <td>False</td>\n",
       "      <td>22.0</td>\n",
       "      <td>True</td>\n",
       "      <td>False</td>\n",
       "      <td>False</td>\n",
       "      <td>False</td>\n",
       "      <td>True</td>\n",
       "      <td>False</td>\n",
       "    </tr>\n",
       "    <tr>\n",
       "      <th>1</th>\n",
       "      <td>True</td>\n",
       "      <td>38.0</td>\n",
       "      <td>False</td>\n",
       "      <td>True</td>\n",
       "      <td>False</td>\n",
       "      <td>False</td>\n",
       "      <td>True</td>\n",
       "      <td>False</td>\n",
       "    </tr>\n",
       "    <tr>\n",
       "      <th>2</th>\n",
       "      <td>True</td>\n",
       "      <td>26.0</td>\n",
       "      <td>True</td>\n",
       "      <td>False</td>\n",
       "      <td>False</td>\n",
       "      <td>True</td>\n",
       "      <td>False</td>\n",
       "      <td>False</td>\n",
       "    </tr>\n",
       "    <tr>\n",
       "      <th>3</th>\n",
       "      <td>True</td>\n",
       "      <td>35.0</td>\n",
       "      <td>True</td>\n",
       "      <td>False</td>\n",
       "      <td>False</td>\n",
       "      <td>False</td>\n",
       "      <td>True</td>\n",
       "      <td>False</td>\n",
       "    </tr>\n",
       "    <tr>\n",
       "      <th>4</th>\n",
       "      <td>False</td>\n",
       "      <td>35.0</td>\n",
       "      <td>True</td>\n",
       "      <td>False</td>\n",
       "      <td>False</td>\n",
       "      <td>True</td>\n",
       "      <td>False</td>\n",
       "      <td>False</td>\n",
       "    </tr>\n",
       "  </tbody>\n",
       "</table>\n",
       "</div>"
      ],
      "text/plain": [
       "   Gender  Age_mean  Embarked_S  Embarked_C  Embarked_Q  Family_S  Family_M  \\\n",
       "0   False      22.0        True       False       False     False      True   \n",
       "1    True      38.0       False        True       False     False      True   \n",
       "2    True      26.0        True       False       False      True     False   \n",
       "3    True      35.0        True       False       False     False      True   \n",
       "4   False      35.0        True       False       False      True     False   \n",
       "\n",
       "   Family_L  \n",
       "0     False  \n",
       "1     False  \n",
       "2     False  \n",
       "3     False  \n",
       "4     False  "
      ]
     },
     "execution_count": 31,
     "metadata": {},
     "output_type": "execute_result"
    }
   ],
   "source": [
    "X_train=train[feature_names]\n",
    "X_train.head()"
   ]
  },
  {
   "cell_type": "code",
   "execution_count": 32,
   "id": "8c0ab2c8",
   "metadata": {
    "execution": {
     "iopub.execute_input": "2023-01-28T09:52:09.318620Z",
     "iopub.status.busy": "2023-01-28T09:52:09.318060Z",
     "iopub.status.idle": "2023-01-28T09:52:09.323632Z",
     "shell.execute_reply": "2023-01-28T09:52:09.322735Z"
    },
    "papermill": {
     "duration": 0.019894,
     "end_time": "2023-01-28T09:52:09.325707",
     "exception": false,
     "start_time": "2023-01-28T09:52:09.305813",
     "status": "completed"
    },
    "tags": []
   },
   "outputs": [
    {
     "data": {
      "text/plain": [
       "Index(['PassengerId', 'Survived', 'Pclass', 'Name', 'Sex', 'Age', 'SibSp',\n",
       "       'Parch', 'Ticket', 'Fare', 'Cabin', 'Embarked', 'Age_mean', 'Gender',\n",
       "       'Embarked_S', 'Embarked_C', 'Embarked_Q', 'FamilySize', 'Family',\n",
       "       'Family_S', 'Family_M', 'Family_L'],\n",
       "      dtype='object')"
      ]
     },
     "execution_count": 32,
     "metadata": {},
     "output_type": "execute_result"
    }
   ],
   "source": [
    "train.columns"
   ]
  },
  {
   "cell_type": "code",
   "execution_count": 33,
   "id": "81f9e994",
   "metadata": {
    "execution": {
     "iopub.execute_input": "2023-01-28T09:52:09.349887Z",
     "iopub.status.busy": "2023-01-28T09:52:09.349311Z",
     "iopub.status.idle": "2023-01-28T09:52:09.353219Z",
     "shell.execute_reply": "2023-01-28T09:52:09.352490Z"
    },
    "papermill": {
     "duration": 0.018217,
     "end_time": "2023-01-28T09:52:09.355146",
     "exception": false,
     "start_time": "2023-01-28T09:52:09.336929",
     "status": "completed"
    },
    "tags": []
   },
   "outputs": [],
   "source": [
    "y_lable=train['Survived']"
   ]
  },
  {
   "cell_type": "code",
   "execution_count": 34,
   "id": "f845d889",
   "metadata": {
    "execution": {
     "iopub.execute_input": "2023-01-28T09:52:09.379189Z",
     "iopub.status.busy": "2023-01-28T09:52:09.378586Z",
     "iopub.status.idle": "2023-01-28T09:52:09.392415Z",
     "shell.execute_reply": "2023-01-28T09:52:09.391698Z"
    },
    "papermill": {
     "duration": 0.028366,
     "end_time": "2023-01-28T09:52:09.394457",
     "exception": false,
     "start_time": "2023-01-28T09:52:09.366091",
     "status": "completed"
    },
    "tags": []
   },
   "outputs": [
    {
     "data": {
      "text/html": [
       "<div>\n",
       "<style scoped>\n",
       "    .dataframe tbody tr th:only-of-type {\n",
       "        vertical-align: middle;\n",
       "    }\n",
       "\n",
       "    .dataframe tbody tr th {\n",
       "        vertical-align: top;\n",
       "    }\n",
       "\n",
       "    .dataframe thead th {\n",
       "        text-align: right;\n",
       "    }\n",
       "</style>\n",
       "<table border=\"1\" class=\"dataframe\">\n",
       "  <thead>\n",
       "    <tr style=\"text-align: right;\">\n",
       "      <th></th>\n",
       "      <th>Gender</th>\n",
       "      <th>Age_mean</th>\n",
       "      <th>Embarked_S</th>\n",
       "      <th>Embarked_C</th>\n",
       "      <th>Embarked_Q</th>\n",
       "      <th>Family_S</th>\n",
       "      <th>Family_M</th>\n",
       "      <th>Family_L</th>\n",
       "    </tr>\n",
       "  </thead>\n",
       "  <tbody>\n",
       "    <tr>\n",
       "      <th>0</th>\n",
       "      <td>False</td>\n",
       "      <td>34.5</td>\n",
       "      <td>False</td>\n",
       "      <td>False</td>\n",
       "      <td>True</td>\n",
       "      <td>True</td>\n",
       "      <td>False</td>\n",
       "      <td>False</td>\n",
       "    </tr>\n",
       "    <tr>\n",
       "      <th>1</th>\n",
       "      <td>True</td>\n",
       "      <td>47.0</td>\n",
       "      <td>True</td>\n",
       "      <td>False</td>\n",
       "      <td>False</td>\n",
       "      <td>False</td>\n",
       "      <td>True</td>\n",
       "      <td>False</td>\n",
       "    </tr>\n",
       "    <tr>\n",
       "      <th>2</th>\n",
       "      <td>False</td>\n",
       "      <td>62.0</td>\n",
       "      <td>False</td>\n",
       "      <td>False</td>\n",
       "      <td>True</td>\n",
       "      <td>True</td>\n",
       "      <td>False</td>\n",
       "      <td>False</td>\n",
       "    </tr>\n",
       "    <tr>\n",
       "      <th>3</th>\n",
       "      <td>False</td>\n",
       "      <td>27.0</td>\n",
       "      <td>True</td>\n",
       "      <td>False</td>\n",
       "      <td>False</td>\n",
       "      <td>True</td>\n",
       "      <td>False</td>\n",
       "      <td>False</td>\n",
       "    </tr>\n",
       "    <tr>\n",
       "      <th>4</th>\n",
       "      <td>True</td>\n",
       "      <td>22.0</td>\n",
       "      <td>True</td>\n",
       "      <td>False</td>\n",
       "      <td>False</td>\n",
       "      <td>False</td>\n",
       "      <td>True</td>\n",
       "      <td>False</td>\n",
       "    </tr>\n",
       "  </tbody>\n",
       "</table>\n",
       "</div>"
      ],
      "text/plain": [
       "   Gender  Age_mean  Embarked_S  Embarked_C  Embarked_Q  Family_S  Family_M  \\\n",
       "0   False      34.5       False       False        True      True     False   \n",
       "1    True      47.0        True       False       False     False      True   \n",
       "2   False      62.0       False       False        True      True     False   \n",
       "3   False      27.0        True       False       False      True     False   \n",
       "4    True      22.0        True       False       False     False      True   \n",
       "\n",
       "   Family_L  \n",
       "0     False  \n",
       "1     False  \n",
       "2     False  \n",
       "3     False  \n",
       "4     False  "
      ]
     },
     "execution_count": 34,
     "metadata": {},
     "output_type": "execute_result"
    }
   ],
   "source": [
    "X_test = test[feature_names]\n",
    "X_test.head()"
   ]
  },
  {
   "cell_type": "code",
   "execution_count": 35,
   "id": "13585b79",
   "metadata": {
    "execution": {
     "iopub.execute_input": "2023-01-28T09:52:09.419500Z",
     "iopub.status.busy": "2023-01-28T09:52:09.418938Z",
     "iopub.status.idle": "2023-01-28T09:52:10.615475Z",
     "shell.execute_reply": "2023-01-28T09:52:10.614513Z"
    },
    "papermill": {
     "duration": 1.212192,
     "end_time": "2023-01-28T09:52:10.618133",
     "exception": false,
     "start_time": "2023-01-28T09:52:09.405941",
     "status": "completed"
    },
    "tags": []
   },
   "outputs": [],
   "source": [
    "from sklearn.tree import DecisionTreeClassifier\n",
    "model=DecisionTreeClassifier(max_depth=3,random_state=2018)"
   ]
  },
  {
   "cell_type": "code",
   "execution_count": 36,
   "id": "78d9c325",
   "metadata": {
    "execution": {
     "iopub.execute_input": "2023-01-28T09:52:10.642914Z",
     "iopub.status.busy": "2023-01-28T09:52:10.642506Z",
     "iopub.status.idle": "2023-01-28T09:52:10.655004Z",
     "shell.execute_reply": "2023-01-28T09:52:10.653990Z"
    },
    "papermill": {
     "duration": 0.027793,
     "end_time": "2023-01-28T09:52:10.657529",
     "exception": false,
     "start_time": "2023-01-28T09:52:10.629736",
     "status": "completed"
    },
    "tags": []
   },
   "outputs": [
    {
     "data": {
      "text/plain": [
       "DecisionTreeClassifier(max_depth=3, random_state=2018)"
      ]
     },
     "execution_count": 36,
     "metadata": {},
     "output_type": "execute_result"
    }
   ],
   "source": [
    "model.fit(X_train,y_lable)"
   ]
  },
  {
   "cell_type": "code",
   "execution_count": 37,
   "id": "8ed9575b",
   "metadata": {
    "execution": {
     "iopub.execute_input": "2023-01-28T09:52:10.683066Z",
     "iopub.status.busy": "2023-01-28T09:52:10.682613Z",
     "iopub.status.idle": "2023-01-28T09:52:10.690218Z",
     "shell.execute_reply": "2023-01-28T09:52:10.689071Z"
    },
    "papermill": {
     "duration": 0.023068,
     "end_time": "2023-01-28T09:52:10.692483",
     "exception": false,
     "start_time": "2023-01-28T09:52:10.669415",
     "status": "completed"
    },
    "tags": []
   },
   "outputs": [],
   "source": [
    "prediction=model.predict(X_test)"
   ]
  },
  {
   "cell_type": "code",
   "execution_count": 38,
   "id": "d3442cea",
   "metadata": {
    "execution": {
     "iopub.execute_input": "2023-01-28T09:52:10.717228Z",
     "iopub.status.busy": "2023-01-28T09:52:10.716832Z",
     "iopub.status.idle": "2023-01-28T09:52:10.722378Z",
     "shell.execute_reply": "2023-01-28T09:52:10.721267Z"
    },
    "papermill": {
     "duration": 0.020579,
     "end_time": "2023-01-28T09:52:10.724627",
     "exception": false,
     "start_time": "2023-01-28T09:52:10.704048",
     "status": "completed"
    },
    "tags": []
   },
   "outputs": [],
   "source": [
    "test['Survived'] = prediction"
   ]
  },
  {
   "cell_type": "code",
   "execution_count": 39,
   "id": "296f0def",
   "metadata": {
    "execution": {
     "iopub.execute_input": "2023-01-28T09:52:10.750146Z",
     "iopub.status.busy": "2023-01-28T09:52:10.749105Z",
     "iopub.status.idle": "2023-01-28T09:52:10.762424Z",
     "shell.execute_reply": "2023-01-28T09:52:10.761335Z"
    },
    "papermill": {
     "duration": 0.028346,
     "end_time": "2023-01-28T09:52:10.764707",
     "exception": false,
     "start_time": "2023-01-28T09:52:10.736361",
     "status": "completed"
    },
    "tags": []
   },
   "outputs": [
    {
     "data": {
      "text/html": [
       "<div>\n",
       "<style scoped>\n",
       "    .dataframe tbody tr th:only-of-type {\n",
       "        vertical-align: middle;\n",
       "    }\n",
       "\n",
       "    .dataframe tbody tr th {\n",
       "        vertical-align: top;\n",
       "    }\n",
       "\n",
       "    .dataframe thead th {\n",
       "        text-align: right;\n",
       "    }\n",
       "</style>\n",
       "<table border=\"1\" class=\"dataframe\">\n",
       "  <thead>\n",
       "    <tr style=\"text-align: right;\">\n",
       "      <th></th>\n",
       "      <th>PassengerId</th>\n",
       "      <th>Survived</th>\n",
       "    </tr>\n",
       "  </thead>\n",
       "  <tbody>\n",
       "    <tr>\n",
       "      <th>0</th>\n",
       "      <td>892</td>\n",
       "      <td>0</td>\n",
       "    </tr>\n",
       "    <tr>\n",
       "      <th>1</th>\n",
       "      <td>893</td>\n",
       "      <td>1</td>\n",
       "    </tr>\n",
       "    <tr>\n",
       "      <th>2</th>\n",
       "      <td>894</td>\n",
       "      <td>0</td>\n",
       "    </tr>\n",
       "    <tr>\n",
       "      <th>3</th>\n",
       "      <td>895</td>\n",
       "      <td>0</td>\n",
       "    </tr>\n",
       "    <tr>\n",
       "      <th>4</th>\n",
       "      <td>896</td>\n",
       "      <td>1</td>\n",
       "    </tr>\n",
       "    <tr>\n",
       "      <th>...</th>\n",
       "      <td>...</td>\n",
       "      <td>...</td>\n",
       "    </tr>\n",
       "    <tr>\n",
       "      <th>413</th>\n",
       "      <td>1305</td>\n",
       "      <td>0</td>\n",
       "    </tr>\n",
       "    <tr>\n",
       "      <th>414</th>\n",
       "      <td>1306</td>\n",
       "      <td>1</td>\n",
       "    </tr>\n",
       "    <tr>\n",
       "      <th>415</th>\n",
       "      <td>1307</td>\n",
       "      <td>0</td>\n",
       "    </tr>\n",
       "    <tr>\n",
       "      <th>416</th>\n",
       "      <td>1308</td>\n",
       "      <td>0</td>\n",
       "    </tr>\n",
       "    <tr>\n",
       "      <th>417</th>\n",
       "      <td>1309</td>\n",
       "      <td>0</td>\n",
       "    </tr>\n",
       "  </tbody>\n",
       "</table>\n",
       "<p>418 rows × 2 columns</p>\n",
       "</div>"
      ],
      "text/plain": [
       "     PassengerId  Survived\n",
       "0            892         0\n",
       "1            893         1\n",
       "2            894         0\n",
       "3            895         0\n",
       "4            896         1\n",
       "..           ...       ...\n",
       "413         1305         0\n",
       "414         1306         1\n",
       "415         1307         0\n",
       "416         1308         0\n",
       "417         1309         0\n",
       "\n",
       "[418 rows x 2 columns]"
      ]
     },
     "execution_count": 39,
     "metadata": {},
     "output_type": "execute_result"
    }
   ],
   "source": [
    "submissions = test[['PassengerId', 'Survived']]\n",
    "submissions"
   ]
  },
  {
   "cell_type": "code",
   "execution_count": 40,
   "id": "124f4420",
   "metadata": {
    "execution": {
     "iopub.execute_input": "2023-01-28T09:52:10.790220Z",
     "iopub.status.busy": "2023-01-28T09:52:10.789635Z",
     "iopub.status.idle": "2023-01-28T09:52:10.797554Z",
     "shell.execute_reply": "2023-01-28T09:52:10.796738Z"
    },
    "papermill": {
     "duration": 0.023085,
     "end_time": "2023-01-28T09:52:10.799623",
     "exception": false,
     "start_time": "2023-01-28T09:52:10.776538",
     "status": "completed"
    },
    "tags": []
   },
   "outputs": [],
   "source": [
    "submissions.to_csv('submission.csv', index=False )"
   ]
  }
 ],
 "metadata": {
  "kernelspec": {
   "display_name": "Python 3",
   "language": "python",
   "name": "python3"
  },
  "language_info": {
   "codemirror_mode": {
    "name": "ipython",
    "version": 3
   },
   "file_extension": ".py",
   "mimetype": "text/x-python",
   "name": "python",
   "nbconvert_exporter": "python",
   "pygments_lexer": "ipython3",
   "version": "3.9.10"
  },
  "papermill": {
   "default_parameters": {},
   "duration": 11.869398,
   "end_time": "2023-01-28T09:52:11.532249",
   "environment_variables": {},
   "exception": null,
   "input_path": "__notebook__.ipynb",
   "output_path": "__notebook__.ipynb",
   "parameters": {},
   "start_time": "2023-01-28T09:51:59.662851",
   "version": "2.3.4"
  },
  "vscode": {
   "interpreter": {
    "hash": "f6246b25e200e4c5124e3e61789ac81350562f0761bbcf92ad9e48654207659c"
   }
  }
 },
 "nbformat": 4,
 "nbformat_minor": 5
}
